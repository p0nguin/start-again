{
  "nbformat": 4,
  "nbformat_minor": 0,
  "metadata": {
    "colab": {
      "provenance": [],
      "authorship_tag": "ABX9TyMVy74ugJ9biItWFbi9I9f6",
      "include_colab_link": true
    },
    "kernelspec": {
      "name": "python3",
      "display_name": "Python 3"
    },
    "language_info": {
      "name": "python"
    }
  },
  "cells": [
    {
      "cell_type": "markdown",
      "metadata": {
        "id": "view-in-github",
        "colab_type": "text"
      },
      "source": [
        "<a href=\"https://colab.research.google.com/github/p0nguin/start-again/blob/main/modelsandcatastrophe_gemini.ipynb\" target=\"_parent\"><img src=\"https://colab.research.google.com/assets/colab-badge.svg\" alt=\"Open In Colab\"/></a>"
      ]
    },
    {
      "cell_type": "code",
      "execution_count": 1,
      "metadata": {
        "colab": {
          "base_uri": "https://localhost:8080/",
          "height": 783
        },
        "id": "gDld8KBhkY8K",
        "outputId": "abf61eb2-8771-4f37-d2c5-57a93e49ea40"
      },
      "outputs": [
        {
          "output_type": "display_data",
          "data": {
            "text/plain": [
              "<Figure size 1000x800 with 12 Axes>"
            ],
            "image/png": "[encoded data removed]"
          },
          "metadata": {}
        }
      ],
      "source": [
        "from PIL import Image, ImageDraw\n",
        "import numpy as np\n",
        "import torch\n",
        "from torch.utils.data import Dataset\n",
        "import random\n",
        "import matplotlib.pyplot as plt\n",
        "\n",
        "# Synthetic image generator: mix of dot, line, cross, etc.\n",
        "def draw_composite_image(n_shapes=3):\n",
        "    img = Image.new(\"L\", (28, 28), color=0)\n",
        "    draw = ImageDraw.Draw(img)\n",
        "\n",
        "    for _ in range(n_shapes):\n",
        "        choice = random.choice([\"dot\", \"horizontal\", \"vertical\", \"diagonal\", \"cross\"])\n",
        "        if choice == \"dot\":\n",
        "            x, y = random.randint(5, 23), random.randint(5, 23)\n",
        "            draw.ellipse((x-2, y-2, x+2, y+2), fill=255)\n",
        "        elif choice == \"horizontal\":\n",
        "            y = random.randint(5, 23)\n",
        "            draw.line((0, y, 27, y), fill=255, width=1)\n",
        "        elif choice == \"vertical\":\n",
        "            x = random.randint(5, 23)\n",
        "            draw.line((x, 0, x, 27), fill=255, width=1)\n",
        "        elif choice == \"diagonal\":\n",
        "            if random.random() < 0.5:\n",
        "                draw.line((0, 0, 27, 27), fill=255, width=1)\n",
        "            else:\n",
        "                draw.line((0, 27, 27, 0), fill=255, width=1)\n",
        "        elif choice == \"cross\":\n",
        "            x, y = random.randint(5, 23), random.randint(5, 23)\n",
        "            draw.line((x, 0, x, 27), fill=255, width=1)\n",
        "            draw.line((0, y, 27, y), fill=255, width=1)\n",
        "\n",
        "    return np.array(img)\n",
        "\n",
        "# Custom Dataset class\n",
        "class SyntheticPatternDataset(Dataset):\n",
        "    def __init__(self, num_images=10000, n_shapes_range=(1, 5)):\n",
        "        self.num_images = num_images\n",
        "        self.n_shapes_range = n_shapes_range\n",
        "        self.data = [draw_composite_image(random.randint(*n_shapes_range)) for _ in range(num_images)]\n",
        "\n",
        "    def __len__(self):\n",
        "        return self.num_images\n",
        "\n",
        "    def __getitem__(self, idx):\n",
        "        img = self.data[idx]\n",
        "        img_tensor = torch.tensor(img, dtype=torch.float32).unsqueeze(0) / 255.0  # Normalize to [0,1]\n",
        "        return img_tensor, 0  # Dummy label\n",
        "\n",
        "# Create dataset instance and visualize some samples\n",
        "synthetic_dataset = SyntheticPatternDataset(num_images=12, n_shapes_range=(2, 5))\n",
        "\n",
        "# Display sample images\n",
        "fig, axes = plt.subplots(3, 4, figsize=(10, 8))\n",
        "for i, ax in enumerate(axes.flat):\n",
        "    img, _ = synthetic_dataset[i]\n",
        "    ax.imshow(img.squeeze(0), cmap=\"gray\")\n",
        "    ax.axis(\"off\")\n",
        "plt.tight_layout()\n",
        "plt.show()"
      ]
    },
    {
      "cell_type": "code",
      "source": [
        "import torch\n",
        "import torch.nn as nn\n",
        "import torch.optim as optim\n",
        "from torch.utils.data import Dataset, DataLoader\n",
        "from torchvision import datasets, transforms\n",
        "from PIL import Image, ImageDraw\n",
        "import numpy as np\n",
        "import random\n",
        "import matplotlib.pyplot as plt\n",
        "from tqdm import tqdm\n",
        "\n",
        "# =============================================================================\n",
        "# 1. 데이터 생성 및 준비 (제공된 코드)\n",
        "# =============================================================================\n",
        "\n",
        "# 점, 선, 면 등이 섞인 임의의 이미지 생성 함수\n",
        "def draw_composite_image(n_shapes=3):\n",
        "    img = Image.new(\"L\", (28, 28), color=0)\n",
        "    draw = ImageDraw.Draw(img)\n",
        "\n",
        "    for _ in range(n_shapes):\n",
        "        choice = random.choice([\"dot\", \"horizontal\", \"vertical\", \"diagonal\", \"cross\"])\n",
        "        if choice == \"dot\":\n",
        "            x, y = random.randint(5, 23), random.randint(5, 23)\n",
        "            draw.ellipse((x-2, y-2, x+2, y+2), fill=255)\n",
        "        elif choice == \"horizontal\":\n",
        "            y = random.randint(5, 23)\n",
        "            draw.line((0, y, 27, y), fill=255, width=1)\n",
        "        elif choice == \"vertical\":\n",
        "            x = random.randint(5, 23)\n",
        "            draw.line((x, 0, x, 27), fill=255, width=1)\n",
        "        elif choice == \"diagonal\":\n",
        "            if random.random() < 0.5:\n",
        "                draw.line((0, 0, 27, 27), fill=255, width=1)\n",
        "            else:\n",
        "                draw.line((0, 27, 27, 0), fill=255, width=1)\n",
        "        elif choice == \"cross\":\n",
        "            x, y = random.randint(5, 23), random.randint(5, 23)\n",
        "            draw.line((x, 0, x, 27), fill=255, width=1)\n",
        "            draw.line((0, y, 27, y), fill=255, width=1)\n",
        "\n",
        "    return np.array(img)\n",
        "\n",
        "# 커스텀 데이터셋 클래스\n",
        "class SyntheticPatternDataset(Dataset):\n",
        "    def __init__(self, num_images=50000, n_shapes_range=(1, 5)):\n",
        "        self.num_images = num_images\n",
        "        self.n_shapes_range = n_shapes_range\n",
        "        print(\"합성 이미지 데이터셋 생성 중...\")\n",
        "        self.data = [draw_composite_image(random.randint(*n_shapes_range)) for _ in tqdm(range(num_images))]\n",
        "\n",
        "    def __len__(self):\n",
        "        return self.num_images\n",
        "\n",
        "    def __getitem__(self, idx):\n",
        "        img = self.data[idx]\n",
        "        img_tensor = torch.tensor(img, dtype=torch.float32).unsqueeze(0) / 255.0\n",
        "        return img_tensor, img_tensor # 오토인코더는 입력을 복원하는 것이 목표이므로 (입력, 타겟) 모두 이미지\n",
        "\n",
        "# =============================================================================\n",
        "# 2. 오토인코더 모델 정의\n",
        "# =============================================================================\n",
        "\n",
        "class Autoencoder(nn.Module):\n",
        "    def __init__(self, latent_dim=64):\n",
        "        super(Autoencoder, self).__init__()\n",
        "        self.latent_dim = latent_dim\n",
        "\n",
        "        # 인코더: 28x28 이미지를 latent_dim 차원의 벡터로 압축\n",
        "        self.encoder = nn.Sequential(\n",
        "            nn.Conv2d(1, 16, kernel_size=3, stride=2, padding=1), # -> 16x14x14\n",
        "            nn.ReLU(),\n",
        "            nn.Conv2d(16, 32, kernel_size=3, stride=2, padding=1), # -> 32x7x7\n",
        "            nn.ReLU(),\n",
        "            nn.Flatten(),\n",
        "            nn.Linear(32 * 7 * 7, latent_dim)\n",
        "        )\n",
        "\n",
        "        # 디코더: latent_dim 차원의 벡터를 28x28 이미지로 복원\n",
        "        self.decoder = nn.Sequential(\n",
        "            nn.Linear(latent_dim, 32 * 7 * 7),\n",
        "            nn.ReLU(),\n",
        "            nn.Unflatten(1, (32, 7, 7)),\n",
        "            nn.ConvTranspose2d(32, 16, kernel_size=3, stride=2, padding=1, output_padding=1), # -> 16x14x14\n",
        "            nn.ReLU(),\n",
        "            nn.ConvTranspose2d(16, 1, kernel_size=3, stride=2, padding=1, output_padding=1), # -> 1x28x28\n",
        "            nn.Sigmoid() # 픽셀 값을 0과 1 사이로 조정\n",
        "        )\n",
        "\n",
        "    def forward(self, x):\n",
        "        encoded = self.encoder(x)\n",
        "        decoded = self.decoder(encoded)\n",
        "        return decoded\n",
        "\n",
        "# =============================================================================\n",
        "# 3. 메인 실행 로직\n",
        "# =============================================================================\n",
        "\n",
        "if __name__ == '__main__':\n",
        "    # 하이퍼파라미터 설정\n",
        "    EPOCHS = 10\n",
        "    BATCH_SIZE = 128\n",
        "    LEARNING_RATE = 1e-3\n",
        "    LATENT_DIM = 64\n",
        "    DEVICE = torch.device(\"cuda\" if torch.cuda.is_available() else \"cpu\")\n",
        "    print(f\"Using device: {DEVICE}\")\n",
        "\n",
        "    # --- 1단계: 합성 데이터로 오토인코더 학습 ---\n",
        "    print(\"\\n--- 1단계: 오토인코더 학습 시작 ---\")\n",
        "    synthetic_dataset = SyntheticPatternDataset()\n",
        "    train_loader = DataLoader(synthetic_dataset, batch_size=BATCH_SIZE, shuffle=True)\n",
        "\n",
        "    model = Autoencoder(latent_dim=LATENT_DIM).to(DEVICE)\n",
        "    criterion = nn.MSELoss()\n",
        "    optimizer = optim.Adam(model.parameters(), lr=LEARNING_RATE)\n",
        "\n",
        "    for epoch in range(EPOCHS):\n",
        "        total_loss = 0\n",
        "        for data in tqdm(train_loader, desc=f\"Epoch {epoch+1}/{EPOCHS}\"):\n",
        "            inputs, targets = data\n",
        "            inputs, targets = inputs.to(DEVICE), targets.to(DEVICE)\n",
        "\n",
        "            optimizer.zero_grad()\n",
        "            outputs = model(inputs)\n",
        "            loss = criterion(outputs, targets)\n",
        "            loss.backward()\n",
        "            optimizer.step()\n",
        "            total_loss += loss.item()\n",
        "\n",
        "        avg_loss = total_loss / len(train_loader)\n",
        "        print(f\"Epoch {epoch+1}/{EPOCHS}, Loss: {avg_loss:.6f}\")\n",
        "\n",
        "    # --- 2단계: 학습된 인코더로 프로토타입 생성 ---\n",
        "    print(\"\\n--- 2단계: MNIST & Fashion-MNIST 프로토타입 생성 시작 ---\")\n",
        "    model.eval() # 평가 모드로 전환\n",
        "\n",
        "    # 데이터셋 로드 (학습용)\n",
        "    transform = transforms.Compose([transforms.ToTensor()])\n",
        "    mnist_train = datasets.MNIST(root='./data', train=True, download=True, transform=transform)\n",
        "    fashion_mnist_train = datasets.FashionMNIST(root='./data', train=True, download=True, transform=transform)\n",
        "\n",
        "    # 데이터로더 생성 (전체 데이터를 한 번에 처리하기 위해 배치 크기를 크게 설정)\n",
        "    mnist_train_loader = DataLoader(mnist_train, batch_size=1024)\n",
        "    fashion_train_loader = DataLoader(fashion_mnist_train, batch_size=1024)\n",
        "\n",
        "    # 프로토타입 저장을 위한 텐서 초기화 (20개 클래스, 각 LATENT_DIM 차원)\n",
        "    prototypes = torch.zeros(20, LATENT_DIM).to(DEVICE)\n",
        "    class_counts = torch.zeros(20).to(DEVICE)\n",
        "\n",
        "    with torch.no_grad():\n",
        "        # MNIST(0-9) 프로토타입 계산\n",
        "        for images, labels in tqdm(mnist_train_loader, desc=\"MNIST Train Prototypes\"):\n",
        "            images = images.to(DEVICE)\n",
        "            latent_vectors = model.encoder(images)\n",
        "            for i in range(len(labels)):\n",
        "                label = labels[i]\n",
        "                prototypes[label] += latent_vectors[i]\n",
        "                class_counts[label] += 1\n",
        "\n",
        "        # Fashion-MNIST(10-19) 프로토타입 계산\n",
        "        for images, labels in tqdm(fashion_train_loader, desc=\"Fashion-MNIST Train Prototypes\"):\n",
        "            images = images.to(DEVICE)\n",
        "            # Fashion-MNIST 레이블은 10~19로 매핑\n",
        "            labels += 10\n",
        "            latent_vectors = model.encoder(images)\n",
        "            for i in range(len(labels)):\n",
        "                label = labels[i]\n",
        "                prototypes[label] += latent_vectors[i]\n",
        "                class_counts[label] += 1\n",
        "\n",
        "    # 각 클래스의 합계를 개수로 나누어 평균 벡터(프로토타입) 계산\n",
        "    prototypes /= class_counts.unsqueeze(1)\n",
        "    print(\"프로토타입 생성 완료!\")\n",
        "\n",
        "    # --- 3단계: 프로토타입 기반 분류 및 성능 평가 ---\n",
        "    print(\"\\n--- 3단계: 프로토타입 기반 분류 성능 평가 시작 ---\")\n",
        "\n",
        "    # 데이터셋 로드 (테스트용)\n",
        "    mnist_test = datasets.MNIST(root='./data', train=False, download=True, transform=transform)\n",
        "    fashion_mnist_test = datasets.FashionMNIST(root='./data', train=False, download=True, transform=transform)\n",
        "\n",
        "    mnist_test_loader = DataLoader(mnist_test, batch_size=1024)\n",
        "    fashion_test_loader = DataLoader(fashion_mnist_test, batch_size=1024)\n",
        "\n",
        "    total_correct = 0\n",
        "    total_samples = 0\n",
        "\n",
        "    with torch.no_grad():\n",
        "        # MNIST(0-9) 테스트\n",
        "        for images, labels in tqdm(mnist_test_loader, desc=\"MNIST Test Evaluation\"):\n",
        "            images, labels = images.to(DEVICE), labels.to(DEVICE)\n",
        "            latent_vectors = model.encoder(images)\n",
        "\n",
        "            # 각 잠재 벡터와 모든 프로토타입 간의 거리 계산\n",
        "            # (N, 64) -> (N, 1, 64), (20, 64) -> (1, 20, 64)\n",
        "            # 브로드캐스팅을 통해 (N, 20, 64) 텐서에서 L2 거리 계산\n",
        "            distances = torch.cdist(latent_vectors.unsqueeze(1), prototypes.unsqueeze(0)).squeeze(1)\n",
        "\n",
        "            # 가장 거리가 가까운 프로토타입의 인덱스를 예측 레이블로 선택\n",
        "            predictions = torch.argmin(distances, dim=1)\n",
        "\n",
        "            total_correct += (predictions == labels).sum().item()\n",
        "            total_samples += labels.size(0)\n",
        "\n",
        "        # Fashion-MNIST(10-19) 테스트\n",
        "        for images, labels in tqdm(fashion_test_loader, desc=\"Fashion-MNIST Test Evaluation\"):\n",
        "            images = images.to(DEVICE)\n",
        "            # Fashion-MNIST 레이블은 10~19로 매핑\n",
        "            labels_offset = (labels + 10).to(DEVICE)\n",
        "            latent_vectors = model.encoder(images)\n",
        "\n",
        "            distances = torch.cdist(latent_vectors.unsqueeze(1), prototypes.unsqueeze(0)).squeeze(1)\n",
        "            predictions = torch.argmin(distances, dim=1)\n",
        "\n",
        "            total_correct += (predictions == labels_offset).sum().item()\n",
        "            total_samples += labels.size(0)\n",
        "\n",
        "    accuracy = (total_correct / total_samples) * 100\n",
        "    print(f\"\\n========================================================\")\n",
        "    print(f\"최종 분류 정확도: {accuracy:.2f}%\")\n",
        "    print(f\"(총 {total_samples}개의 테스트 샘플 중 {total_correct}개 정답)\")\n",
        "    print(f\"========================================================\")\n",
        "\n",
        "    # 오토인코더 복원 결과 시각화 (MNIST 테스트 데이터 중 일부)\n",
        "    print(\"\\n[참고] 오토인코더의 이미지 복원 결과 시각화\")\n",
        "    fig, axes = plt.subplots(2, 5, figsize=(10, 4))\n",
        "    axes[0, 0].set_ylabel(\"Original\", fontsize=12)\n",
        "    axes[1, 0].set_ylabel(\"Reconstructed\", fontsize=12)\n",
        "\n",
        "    with torch.no_grad():\n",
        "        sample_images, _ = next(iter(mnist_test_loader))\n",
        "        sample_images = sample_images[:5].to(DEVICE)\n",
        "        reconstructed_images = model(sample_images)\n",
        "\n",
        "    for i in range(5):\n",
        "        # 원본 이미지\n",
        "        axes[0, i].imshow(sample_images[i].cpu().squeeze(), cmap='gray')\n",
        "        axes[0, i].axis('off')\n",
        "        # 복원된 이미지\n",
        "        axes[1, i].imshow(reconstructed_images[i].cpu().squeeze(), cmap='gray')\n",
        "        axes[1, i].axis('off')\n",
        "\n",
        "    plt.suptitle(\"Autoencoder Reconstruction Example (MNIST)\")\n",
        "    plt.tight_layout()\n",
        "    plt.show()"
      ],
      "metadata": {
        "colab": {
          "base_uri": "https://localhost:8080/",
          "height": 1000
        },
        "id": "ZvumjpzakhGw",
        "outputId": "382164eb-117b-40ed-c249-82d2532a6ec1"
      },
      "execution_count": 2,
      "outputs": [
        {
          "output_type": "stream",
          "name": "stdout",
          "text": [
            "Using device: cpu\n",
            "\n",
            "--- 1단계: 오토인코더 학습 시작 ---\n",
            "합성 이미지 데이터셋 생성 중...\n"
          ]
        },
        {
          "output_type": "stream",
          "name": "stderr",
          "text": [
            "100%|██████████| 50000/50000 [00:02<00:00, 21064.97it/s]\n",
            "Epoch 1/10: 100%|██████████| 391/391 [00:20<00:00, 18.88it/s]\n"
          ]
        },
        {
          "output_type": "stream",
          "name": "stdout",
          "text": [
            "Epoch 1/10, Loss: 0.080852\n"
          ]
        },
        {
          "output_type": "stream",
          "name": "stderr",
          "text": [
            "Epoch 2/10: 100%|██████████| 391/391 [00:19<00:00, 19.66it/s]\n"
          ]
        },
        {
          "output_type": "stream",
          "name": "stdout",
          "text": [
            "Epoch 2/10, Loss: 0.011586\n"
          ]
        },
        {
          "output_type": "stream",
          "name": "stderr",
          "text": [
            "Epoch 3/10: 100%|██████████| 391/391 [00:28<00:00, 13.95it/s]\n"
          ]
        },
        {
          "output_type": "stream",
          "name": "stdout",
          "text": [
            "Epoch 3/10, Loss: 0.004155\n"
          ]
        },
        {
          "output_type": "stream",
          "name": "stderr",
          "text": [
            "Epoch 4/10: 100%|██████████| 391/391 [00:20<00:00, 19.40it/s]\n"
          ]
        },
        {
          "output_type": "stream",
          "name": "stdout",
          "text": [
            "Epoch 4/10, Loss: 0.002344\n"
          ]
        },
        {
          "output_type": "stream",
          "name": "stderr",
          "text": [
            "Epoch 5/10: 100%|██████████| 391/391 [00:20<00:00, 18.67it/s]\n"
          ]
        },
        {
          "output_type": "stream",
          "name": "stdout",
          "text": [
            "Epoch 5/10, Loss: 0.001571\n"
          ]
        },
        {
          "output_type": "stream",
          "name": "stderr",
          "text": [
            "Epoch 6/10: 100%|██████████| 391/391 [00:20<00:00, 18.73it/s]\n"
          ]
        },
        {
          "output_type": "stream",
          "name": "stdout",
          "text": [
            "Epoch 6/10, Loss: 0.001087\n"
          ]
        },
        {
          "output_type": "stream",
          "name": "stderr",
          "text": [
            "Epoch 7/10: 100%|██████████| 391/391 [00:21<00:00, 18.41it/s]\n"
          ]
        },
        {
          "output_type": "stream",
          "name": "stdout",
          "text": [
            "Epoch 7/10, Loss: 0.000828\n"
          ]
        },
        {
          "output_type": "stream",
          "name": "stderr",
          "text": [
            "Epoch 8/10: 100%|██████████| 391/391 [00:22<00:00, 17.63it/s]\n"
          ]
        },
        {
          "output_type": "stream",
          "name": "stdout",
          "text": [
            "Epoch 8/10, Loss: 0.000675\n"
          ]
        },
        {
          "output_type": "stream",
          "name": "stderr",
          "text": [
            "Epoch 9/10: 100%|██████████| 391/391 [00:21<00:00, 18.20it/s]\n"
          ]
        },
        {
          "output_type": "stream",
          "name": "stdout",
          "text": [
            "Epoch 9/10, Loss: 0.000578\n"
          ]
        },
        {
          "output_type": "stream",
          "name": "stderr",
          "text": [
            "Epoch 10/10: 100%|██████████| 391/391 [00:22<00:00, 17.70it/s]\n"
          ]
        },
        {
          "output_type": "stream",
          "name": "stdout",
          "text": [
            "Epoch 10/10, Loss: 0.000507\n",
            "\n",
            "--- 2단계: MNIST & Fashion-MNIST 프로토타입 생성 시작 ---\n"
          ]
        },
        {
          "output_type": "stream",
          "name": "stderr",
          "text": [
            "100%|██████████| 9.91M/9.91M [00:00<00:00, 31.5MB/s]\n",
            "100%|██████████| 28.9k/28.9k [00:00<00:00, 14.3MB/s]\n",
            "100%|██████████| 1.65M/1.65M [00:00<00:00, 77.5MB/s]\n",
            "100%|██████████| 4.54k/4.54k [00:00<00:00, 9.07MB/s]\n",
            "100%|██████████| 26.4M/26.4M [00:01<00:00, 21.1MB/s]\n",
            "100%|██████████| 29.5k/29.5k [00:00<00:00, 343kB/s]\n",
            "100%|██████████| 4.42M/4.42M [00:00<00:00, 6.22MB/s]\n",
            "100%|██████████| 5.15k/5.15k [00:00<00:00, 18.3MB/s]\n",
            "MNIST Train Prototypes: 100%|██████████| 59/59 [00:12<00:00,  4.71it/s]\n",
            "Fashion-MNIST Train Prototypes: 100%|██████████| 59/59 [00:12<00:00,  4.61it/s]\n"
          ]
        },
        {
          "output_type": "stream",
          "name": "stdout",
          "text": [
            "프로토타입 생성 완료!\n",
            "\n",
            "--- 3단계: 프로토타입 기반 분류 성능 평가 시작 ---\n"
          ]
        },
        {
          "output_type": "stream",
          "name": "stderr",
          "text": [
            "MNIST Test Evaluation: 100%|██████████| 10/10 [00:01<00:00,  6.22it/s]\n",
            "Fashion-MNIST Test Evaluation: 100%|██████████| 10/10 [00:01<00:00,  5.96it/s]\n"
          ]
        },
        {
          "output_type": "stream",
          "name": "stdout",
          "text": [
            "\n",
            "========================================================\n",
            "최종 분류 정확도: 73.91%\n",
            "(총 20000개의 테스트 샘플 중 14783개 정답)\n",
            "========================================================\n",
            "\n",
            "[참고] 오토인코더의 이미지 복원 결과 시각화\n"
          ]
        },
        {
          "output_type": "display_data",
          "data": {
            "text/plain": [
              "<Figure size 1000x400 with 10 Axes>"
            ],
            "image/png": "[encoded data removed]"
          },
          "metadata": {}
        }
      ]
    },
    {
      "cell_type": "code",
      "source": [
        "# [추가된 부분] 오토인코더 복원 결과 시각화 (Fashion-MNIST 테스트 데이터 중 일부)\n",
        "print(\"\\n[참고] 오토인코더의 이미지 복원 결과 시각화 (Fashion-MNIST)\")\n",
        "\n",
        "# Fashion-MNIST 클래스 이름 정의\n",
        "fashion_mnist_labels = ['T-shirt/top', 'Trouser', 'Pullover', 'Dress', 'Coat',\n",
        "                        'Sandal', 'Shirt', 'Sneaker', 'Bag', 'Ankle boot']\n",
        "\n",
        "fig, axes = plt.subplots(2, 5, figsize=(12, 5))\n",
        "axes[0, 0].set_ylabel(\"Original\", fontsize=12)\n",
        "axes[1, 0].set_ylabel(\"Reconstructed\", fontsize=12)\n",
        "\n",
        "with torch.no_grad():\n",
        "    # fashion_test_loader에서 데이터 가져오기\n",
        "    sample_images, sample_labels = next(iter(fashion_test_loader))\n",
        "    sample_images = sample_images[:5].to(DEVICE)\n",
        "    reconstructed_images = model(sample_images)\n",
        "\n",
        "for i in range(5):\n",
        "    # 원본 이미지와 레이블\n",
        "    original_img = sample_images[i].cpu().squeeze()\n",
        "    label_text = fashion_mnist_labels[sample_labels[i]]\n",
        "    axes[0, i].imshow(original_img, cmap='gray')\n",
        "    axes[0, i].set_title(f\"Label: {label_text}\")\n",
        "    axes[0, i].axis('off')\n",
        "\n",
        "    # 복원된 이미지\n",
        "    reconstructed_img = reconstructed_images[i].cpu().squeeze()\n",
        "    axes[1, i].imshow(reconstructed_img, cmap='gray')\n",
        "    axes[1, i].axis('off')\n",
        "\n",
        "plt.suptitle(\"Autoencoder Reconstruction Example (Fashion-MNIST)\")\n",
        "plt.tight_layout(rect=[0, 0.03, 1, 0.95]) # suptitle과 겹치지 않게 조정\n",
        "plt.show()"
      ],
      "metadata": {
        "colab": {
          "base_uri": "https://localhost:8080/",
          "height": 534
        },
        "id": "yVUXxn1vmUwF",
        "outputId": "7690756f-2a01-476a-ec42-0c513ce809ac"
      },
      "execution_count": 3,
      "outputs": [
        {
          "output_type": "stream",
          "name": "stdout",
          "text": [
            "\n",
            "[참고] 오토인코더의 이미지 복원 결과 시각화 (Fashion-MNIST)\n"
          ]
        },
        {
          "output_type": "display_data",
          "data": {
            "text/plain": [
              "<Figure size 1200x500 with 10 Axes>"
            ],
            "image/png": "[encoded data removed]"
          },
          "metadata": {}
        }
      ]
    },
    {
      "cell_type": "code",
      "source": [
        "    print(\"\\n--- 2단계: MNIST 프로토타입 생성 시작 ---\")\n",
        "    model.eval() # 평가 모드로 전환\n",
        "\n",
        "    transform = transforms.Compose([transforms.ToTensor()])\n",
        "    mnist_train = datasets.MNIST(root='./data', train=True, download=True, transform=transform)\n",
        "    mnist_train_loader = DataLoader(mnist_train, batch_size=1024)\n",
        "\n",
        "    # 프로토타입 저장을 위한 텐서 초기화 (10개 클래스)\n",
        "    prototypes = torch.zeros(10, LATENT_DIM).to(DEVICE)\n",
        "    class_counts = torch.zeros(10).to(DEVICE)\n",
        "\n",
        "    with torch.no_grad():\n",
        "        for images, labels in tqdm(mnist_train_loader, desc=\"MNIST Train Prototypes\"):\n",
        "            images = images.to(DEVICE)\n",
        "            latent_vectors = model.encoder(images)\n",
        "            for i in range(len(labels)):\n",
        "                label = labels[i]\n",
        "                prototypes[label] += latent_vectors[i]\n",
        "                class_counts[label] += 1\n",
        "\n",
        "    prototypes /= class_counts.unsqueeze(1)\n",
        "    print(\"MNIST 프로토타입 생성 완료!\")\n",
        "\n",
        "    # --- 3단계: 프로토타입 기반 분류 및 성능 평가 (MNIST Only) ---\n",
        "    print(\"\\n--- 3단계: MNIST 데이터로 성능 평가 시작 ---\")\n",
        "\n",
        "    mnist_test = datasets.MNIST(root='./data', train=False, download=True, transform=transform)\n",
        "    mnist_test_loader = DataLoader(mnist_test, batch_size=1024)\n",
        "\n",
        "    total_correct = 0\n",
        "    total_samples = 0\n",
        "\n",
        "    with torch.no_grad():\n",
        "        for images, labels in tqdm(mnist_test_loader, desc=\"MNIST Test Evaluation\"):\n",
        "            images, labels = images.to(DEVICE), labels.to(DEVICE)\n",
        "            latent_vectors = model.encoder(images)\n",
        "\n",
        "            # 각 잠재 벡터와 10개의 프로토타입 간의 거리 계산\n",
        "            distances = torch.cdist(latent_vectors.unsqueeze(1), prototypes.unsqueeze(0)).squeeze(1)\n",
        "\n",
        "            # 가장 거리가 가까운 프로토타입의 인덱스를 예측 레이블로 선택\n",
        "            predictions = torch.argmin(distances, dim=1)\n",
        "\n",
        "            total_correct += (predictions == labels).sum().item()\n",
        "            total_samples += labels.size(0)\n",
        "\n",
        "    accuracy = (total_correct / total_samples) * 100\n",
        "    print(f\"\\n========================================================\")\n",
        "    print(f\"최종 MNIST 분류 정확도: {accuracy:.2f}%\")\n",
        "    print(f\"(총 {total_samples}개의 MNIST 테스트 샘플 중 {total_correct}개 정답)\")\n",
        "    print(f\"========================================================\")\n"
      ],
      "metadata": {
        "colab": {
          "base_uri": "https://localhost:8080/"
        },
        "id": "INSw6Nqjkyl1",
        "outputId": "0c7f5d2b-1c87-475a-9dc6-15fc9a11ce48"
      },
      "execution_count": 4,
      "outputs": [
        {
          "output_type": "stream",
          "name": "stdout",
          "text": [
            "\n",
            "--- 2단계: MNIST 프로토타입 생성 시작 ---\n"
          ]
        },
        {
          "output_type": "stream",
          "name": "stderr",
          "text": [
            "MNIST Train Prototypes: 100%|██████████| 59/59 [00:14<00:00,  4.15it/s]\n"
          ]
        },
        {
          "output_type": "stream",
          "name": "stdout",
          "text": [
            "MNIST 프로토타입 생성 완료!\n",
            "\n",
            "--- 3단계: MNIST 데이터로 성능 평가 시작 ---\n"
          ]
        },
        {
          "output_type": "stream",
          "name": "stderr",
          "text": [
            "MNIST Test Evaluation: 100%|██████████| 10/10 [00:02<00:00,  4.60it/s]"
          ]
        },
        {
          "output_type": "stream",
          "name": "stdout",
          "text": [
            "\n",
            "========================================================\n",
            "최종 MNIST 분류 정확도: 81.76%\n",
            "(총 10000개의 MNIST 테스트 샘플 중 8176개 정답)\n",
            "========================================================\n"
          ]
        },
        {
          "output_type": "stream",
          "name": "stderr",
          "text": [
            "\n"
          ]
        }
      ]
    },
    {
      "cell_type": "code",
      "source": [],
      "metadata": {
        "id": "9w4Bnm__myNI"
      },
      "execution_count": null,
      "outputs": []
    }
  ]
}